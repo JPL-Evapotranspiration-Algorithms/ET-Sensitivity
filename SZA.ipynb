{
 "cells": [
  {
   "cell_type": "code",
   "execution_count": 13,
   "metadata": {},
   "outputs": [],
   "source": [
    "from dateutil import parser\n",
    "import pandas as pd\n",
    "import ephem\n",
    "from math import degrees\n",
    "from SZA import calculate_SZA_from_datetime\n",
    "import matplotlib.pyplot as plt"
   ]
  },
  {
   "cell_type": "code",
   "execution_count": 2,
   "metadata": {},
   "outputs": [
    {
     "data": {
      "text/html": [
       "<div>\n",
       "<style scoped>\n",
       "    .dataframe tbody tr th:only-of-type {\n",
       "        vertical-align: middle;\n",
       "    }\n",
       "\n",
       "    .dataframe tbody tr th {\n",
       "        vertical-align: top;\n",
       "    }\n",
       "\n",
       "    .dataframe thead th {\n",
       "        text-align: right;\n",
       "    }\n",
       "</style>\n",
       "<table border=\"1\" class=\"dataframe\">\n",
       "  <thead>\n",
       "    <tr style=\"text-align: right;\">\n",
       "      <th></th>\n",
       "      <th>time_UTC</th>\n",
       "      <th>lat</th>\n",
       "      <th>lon</th>\n",
       "    </tr>\n",
       "  </thead>\n",
       "  <tbody>\n",
       "    <tr>\n",
       "      <th>0</th>\n",
       "      <td>2/22/20 16:51</td>\n",
       "      <td>42.5393</td>\n",
       "      <td>-72.1779</td>\n",
       "    </tr>\n",
       "    <tr>\n",
       "      <th>1</th>\n",
       "      <td>4/20/20 11:54</td>\n",
       "      <td>42.5393</td>\n",
       "      <td>-72.1779</td>\n",
       "    </tr>\n",
       "    <tr>\n",
       "      <th>2</th>\n",
       "      <td>5/3/20 12:53</td>\n",
       "      <td>42.5393</td>\n",
       "      <td>-72.1779</td>\n",
       "    </tr>\n",
       "    <tr>\n",
       "      <th>3</th>\n",
       "      <td>5/24/20 22:33</td>\n",
       "      <td>42.5393</td>\n",
       "      <td>-72.1779</td>\n",
       "    </tr>\n",
       "    <tr>\n",
       "      <th>4</th>\n",
       "      <td>6/18/20 18:47</td>\n",
       "      <td>42.5393</td>\n",
       "      <td>-72.1779</td>\n",
       "    </tr>\n",
       "    <tr>\n",
       "      <th>...</th>\n",
       "      <td>...</td>\n",
       "      <td>...</td>\n",
       "      <td>...</td>\n",
       "    </tr>\n",
       "    <tr>\n",
       "      <th>281</th>\n",
       "      <td>8/11/20 23:08</td>\n",
       "      <td>39.0404</td>\n",
       "      <td>-95.1921</td>\n",
       "    </tr>\n",
       "    <tr>\n",
       "      <th>282</th>\n",
       "      <td>6/14/21 21:57</td>\n",
       "      <td>39.0404</td>\n",
       "      <td>-95.1921</td>\n",
       "    </tr>\n",
       "    <tr>\n",
       "      <th>283</th>\n",
       "      <td>6/23/21 11:33</td>\n",
       "      <td>39.0404</td>\n",
       "      <td>-95.1921</td>\n",
       "    </tr>\n",
       "    <tr>\n",
       "      <th>284</th>\n",
       "      <td>6/23/21 18:03</td>\n",
       "      <td>39.0404</td>\n",
       "      <td>-95.1921</td>\n",
       "    </tr>\n",
       "    <tr>\n",
       "      <th>285</th>\n",
       "      <td>9/4/20 12:09</td>\n",
       "      <td>46.2339</td>\n",
       "      <td>-89.5373</td>\n",
       "    </tr>\n",
       "  </tbody>\n",
       "</table>\n",
       "<p>286 rows × 3 columns</p>\n",
       "</div>"
      ],
      "text/plain": [
       "          time_UTC      lat      lon\n",
       "0    2/22/20 16:51  42.5393 -72.1779\n",
       "1    4/20/20 11:54  42.5393 -72.1779\n",
       "2     5/3/20 12:53  42.5393 -72.1779\n",
       "3    5/24/20 22:33  42.5393 -72.1779\n",
       "4    6/18/20 18:47  42.5393 -72.1779\n",
       "..             ...      ...      ...\n",
       "281  8/11/20 23:08  39.0404 -95.1921\n",
       "282  6/14/21 21:57  39.0404 -95.1921\n",
       "283  6/23/21 11:33  39.0404 -95.1921\n",
       "284  6/23/21 18:03  39.0404 -95.1921\n",
       "285   9/4/20 12:09  46.2339 -89.5373\n",
       "\n",
       "[286 rows x 3 columns]"
      ]
     },
     "execution_count": 2,
     "metadata": {},
     "output_type": "execute_result"
    }
   ],
   "source": [
    "df = pd.read_csv(\"calval_final_50_by_column.csv\")[[\"time_UTC\", \"lat\", \"lon\"]]\n",
    "df"
   ]
  },
  {
   "cell_type": "code",
   "execution_count": 4,
   "metadata": {},
   "outputs": [
    {
     "name": "stdout",
     "output_type": "stream",
     "text": [
      "\u001b[0;31mSignature:\u001b[0m\n",
      "\u001b[0mcalculate_SZA_from_datetime\u001b[0m\u001b[0;34m(\u001b[0m\u001b[0;34m\u001b[0m\n",
      "\u001b[0;34m\u001b[0m    \u001b[0mtime_UTC\u001b[0m\u001b[0;34m:\u001b[0m \u001b[0mdatetime\u001b[0m\u001b[0;34m.\u001b[0m\u001b[0mdatetime\u001b[0m\u001b[0;34m,\u001b[0m\u001b[0;34m\u001b[0m\n",
      "\u001b[0;34m\u001b[0m    \u001b[0mlat\u001b[0m\u001b[0;34m:\u001b[0m \u001b[0mfloat\u001b[0m\u001b[0;34m,\u001b[0m\u001b[0;34m\u001b[0m\n",
      "\u001b[0;34m\u001b[0m    \u001b[0mlon\u001b[0m\u001b[0;34m:\u001b[0m \u001b[0mfloat\u001b[0m\u001b[0;34m,\u001b[0m\u001b[0;34m\u001b[0m\n",
      "\u001b[0;34m\u001b[0m\u001b[0;34m)\u001b[0m\u001b[0;34m\u001b[0m\u001b[0;34m\u001b[0m\u001b[0m\n",
      "\u001b[0;31mDocstring:\u001b[0m\n",
      "Calculates the solar zenith angle (SZA) in degrees based on the given UTC time, latitude, and longitude.\n",
      "\n",
      "Args:\n",
      "    time_UTC (datetime.datetime): The UTC time to calculate the SZA for.\n",
      "    lat (float): The latitude in degrees.\n",
      "    lon (float): The longitude in degrees.\n",
      "\n",
      "Returns:\n",
      "    float: The calculated solar zenith angle in degrees.\n",
      "\u001b[0;31mFile:\u001b[0m      ~/Projects/ET-Sensitivity/SZA/SZA.py\n",
      "\u001b[0;31mType:\u001b[0m      function"
     ]
    }
   ],
   "source": [
    "calculate_SZA_from_datetime?"
   ]
  },
  {
   "cell_type": "code",
   "execution_count": 7,
   "metadata": {},
   "outputs": [],
   "source": [
    "SZA1 = df.apply(lambda row: calculate_SZA_from_datetime(parser.parse(str(row.time_UTC)), float(row.lat), float(row.lon)), axis=1)"
   ]
  },
  {
   "cell_type": "code",
   "execution_count": 8,
   "metadata": {},
   "outputs": [
    {
     "data": {
      "text/plain": [
       "0      53.023589\n",
       "1      70.207044\n",
       "2      56.680104\n",
       "3      73.301462\n",
       "4      31.041686\n",
       "         ...    \n",
       "281    66.468217\n",
       "282    48.133125\n",
       "283    84.074454\n",
       "284    16.038256\n",
       "285    82.998235\n",
       "Length: 286, dtype: float64"
      ]
     },
     "execution_count": 8,
     "metadata": {},
     "output_type": "execute_result"
    }
   ],
   "source": [
    "SZA1"
   ]
  },
  {
   "cell_type": "code",
   "execution_count": 11,
   "metadata": {},
   "outputs": [],
   "source": [
    "def calculate_solar_zenith_angle(datetime_UTC, lat, lon):\n",
    "    observer = ephem.Observer()\n",
    "    observer.lat = str(lat)\n",
    "    observer.lon = str(lon)\n",
    "    observer.date = datetime_UTC\n",
    "\n",
    "    sun = ephem.Sun(observer)\n",
    "    solar_zenith_angle = 90 - degrees(sun.alt)\n",
    "\n",
    "    return solar_zenith_angle"
   ]
  },
  {
   "cell_type": "code",
   "execution_count": 12,
   "metadata": {},
   "outputs": [
    {
     "data": {
      "text/plain": [
       "0      52.796168\n",
       "1      69.826626\n",
       "2      55.970563\n",
       "3      73.684217\n",
       "4      30.823979\n",
       "         ...    \n",
       "281    65.639307\n",
       "282    47.997219\n",
       "283    84.352520\n",
       "284    16.195339\n",
       "285    82.837322\n",
       "Length: 286, dtype: float64"
      ]
     },
     "execution_count": 12,
     "metadata": {},
     "output_type": "execute_result"
    }
   ],
   "source": [
    "SZA2 = df.apply(lambda row: calculate_solar_zenith_angle(parser.parse(str(row.time_UTC)), float(row.lat), float(row.lon)), axis=1)\n",
    "SZA2"
   ]
  },
  {
   "cell_type": "code",
   "execution_count": 14,
   "metadata": {},
   "outputs": [
    {
     "data": {
      "text/plain": [
       "<matplotlib.collections.PathCollection at 0x15f5f1250>"
      ]
     },
     "execution_count": 14,
     "metadata": {},
     "output_type": "execute_result"
    },
    {
     "data": {
      "image/png": "[encoded data removed]",
      "text/plain": [
       "<Figure size 640x480 with 1 Axes>"
      ]
     },
     "metadata": {},
     "output_type": "display_data"
    }
   ],
   "source": [
    "plt.scatter(x=SZA2, y=SZA1)"
   ]
  },
  {
   "cell_type": "code",
   "execution_count": null,
   "metadata": {},
   "outputs": [],
   "source": []
  }
 ],
 "metadata": {
  "kernelspec": {
   "display_name": "sensitivity",
   "language": "python",
   "name": "python3"
  },
  "language_info": {
   "codemirror_mode": {
    "name": "ipython",
    "version": 3
   },
   "file_extension": ".py",
   "mimetype": "text/x-python",
   "name": "python",
   "nbconvert_exporter": "python",
   "pygments_lexer": "ipython3",
   "version": "3.9.18"
  }
 },
 "nbformat": 4,
 "nbformat_minor": 2
}
